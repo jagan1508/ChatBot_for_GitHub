{
 "cells": [
  {
   "cell_type": "code",
   "execution_count": 34,
   "id": "168192d8-c507-4e2e-8100-750b9c8cc9d9",
   "metadata": {},
   "outputs": [],
   "source": [
    "from langchain_community.llms.huggingface_hub import HuggingFaceHub\n",
    "from langchain_community.llms import LlamaCpp\n",
    "from langchain_community.vectorstores import Qdrant\n",
    "from langchain_community.llms.huggingface_pipeline import HuggingFacePipeline\n",
    "from transformers import AutoModelForCausalLM, AutoTokenizer, pipeline\n",
    "from langchain_community.document_loaders import DirectoryLoader,TextLoader\n",
    "from langchain_community.embeddings import HuggingFaceBgeEmbeddings\n",
    "from langchain.text_splitter import RecursiveCharacterTextSplitter\n",
    "from langchain_chroma import Chroma\n",
    "from groq import Groq\n",
    "from langchain_groq import ChatGroq\n",
    "import os"
   ]
  },
  {
   "cell_type": "markdown",
   "id": "33109d5a-d913-43c7-8cc3-a132f463a8d6",
   "metadata": {},
   "source": [
    "# Gradio Interface"
   ]
  },
  {
   "cell_type": "code",
   "execution_count": 35,
   "id": "9d15ac40-28b4-48ab-8db9-6ed2cf6b63f1",
   "metadata": {},
   "outputs": [],
   "source": [
    "from langchain_community.embeddings import HuggingFaceEmbeddings\n",
    "from langchain.prompts import PromptTemplate\n",
    "from langchain.chains import RetrievalQA \n",
    "from langchain_community.vectorstores import Qdrant"
   ]
  },
  {
   "cell_type": "code",
   "execution_count": 36,
   "id": "87d1eb79-d4e4-49f9-8deb-041514340d64",
   "metadata": {},
   "outputs": [],
   "source": [
    "os.environ[\"HF_HUB_DISABLE_SYMLINKS_WARNING\"]='False'"
   ]
  },
  {
   "cell_type": "code",
   "execution_count": 37,
   "id": "4430d176-2e2d-44d8-91bf-c1fe3cace540",
   "metadata": {},
   "outputs": [],
   "source": [
    "import gradio as gr"
   ]
  },
  {
   "cell_type": "code",
   "execution_count": 38,
   "id": "e079a620-c2bb-4165-85b4-ab3df22f7a1e",
   "metadata": {},
   "outputs": [],
   "source": [
    "def convert_to_text(src_dir,dst_dir):\n",
    "  if not os.path.exists(dst_dir):\n",
    "    os.makedirs(dst_dir)\n",
    "  for root,dirs,files in os.walk(src_dir):\n",
    "    if '.git' in dirs:\n",
    "      dirs.remove('.git')\n",
    "    for file in files:\n",
    "      if not file.endswith('.jpg'):\n",
    "        file_path=os.path.join(root,file)\n",
    "        rel_path=os.path.relpath(file_path,src_dir)\n",
    "        new_root=os.path.join(dst_dir,os.path.dirname(rel_path))\n",
    "        os.makedirs(new_root,exist_ok=True)\n",
    "        #print(file_path)\n",
    "        try:\n",
    "          with open(file_path,'r',encoding='utf-8') as f:\n",
    "            data=f.read()\n",
    "        except:\n",
    "          try:\n",
    "            with open(file_path,'r',encoding='latin-1') as f:\n",
    "              data=f.read()\n",
    "          except :\n",
    "            print(f\"Failed to decode the file: {file_path}\")\n",
    "        new_file_path=os.path.join(new_root,file+ \".txt\")\n",
    "        with open(new_file_path,'w',encoding='utf-8') as f:\n",
    "          f.write(data)"
   ]
  },
  {
   "cell_type": "code",
   "execution_count": 39,
   "id": "c0ca691a-5cd8-43eb-a12c-dee6a21b164f",
   "metadata": {},
   "outputs": [],
   "source": [
    "def initialize(documents):\n",
    "    model=\"BAAI/bge-small-en-v1.5\" #try using nomic embeddings here refer docs\n",
    "    model_kwargs={\"device\":\"cpu\"}\n",
    "    encode_kwargs={\"normalize_embeddings\":True}\n",
    "    embed_model=HuggingFaceBgeEmbeddings(model_name=model,model_kwargs=model_kwargs,encode_kwargs=encode_kwargs)\n",
    "    \n",
    "    vectorstore = Qdrant.from_documents(\n",
    "            documents,\n",
    "            embed_model,\n",
    "            path=\"/local_qdrantdb\",  \n",
    "            collection_name=\"my_documents\",\n",
    "        )\n",
    "    retriever=vectorstore.as_retriever(search_kwargs={'k': 2})\n",
    "\n",
    "    chat_model = ChatGroq(temperature=0,\n",
    "                    model_name=\"gemma-7b-it\",\n",
    "                    api_key=\"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\")\n",
    "    return chat_model,retriever\n",
    "    "
   ]
  },
  {
   "cell_type": "code",
   "execution_count": 40,
   "id": "acf3a436-270e-4452-a9d2-9600a823b314",
   "metadata": {},
   "outputs": [],
   "source": [
    "custom_prompt_template = \"\"\"\n",
    "DOCUMENT:\n",
    "{context}\n",
    "\n",
    "QUESTION:\n",
    "{question}\n",
    "\n",
    "INSTRUCTIONS:\n",
    "Answer the users QUESTION using the DOCUMENT text above.\n",
    "Keep your answer ground in the facts of the DOCUMENT.\n",
    "If the DOCUMENT doesn’t contain the facts to answer the QUESTION return NONE\"\"\""
   ]
  },
  {
   "cell_type": "code",
   "execution_count": 41,
   "id": "0bcaf89a-f610-441c-bbec-a3cd5c6caee6",
   "metadata": {},
   "outputs": [],
   "source": [
    "def set_custom_prompt():\n",
    "\n",
    "    prompt = PromptTemplate(template=custom_prompt_template,\n",
    "                                input_variables=['context', 'question'])\n",
    "    return prompt"
   ]
  },
  {
   "cell_type": "code",
   "execution_count": 42,
   "id": "593f0a78-88ae-4ddc-a13e-58627d329787",
   "metadata": {},
   "outputs": [],
   "source": [
    "def get_response(query):\n",
    "    global documents\n",
    "    dir = f\"./converted_{path}\"\n",
    "    text_loader_kwargs={'autodetect_encoding': True}\n",
    "    loader= DirectoryLoader(dir,glob=\"**/*.txt\",loader_cls=TextLoader,loader_kwargs=text_loader_kwargs)\n",
    "    repo_files = loader.load()\n",
    "    #print(\"Number of files loaded: \",len(repo_files))\n",
    "    test_splitter=RecursiveCharacterTextSplitter(chunk_size=1500,chunk_overlap=150)\n",
    "    documents=test_splitter.split_documents(repo_files)\n",
    "    #print(\"Number of documents: \", len(documents))\n",
    "    for doc in documents:\n",
    "      old_path_with_txt_ext=doc.metadata[\"source\"]\n",
    "      new_path_without_txt_ext=old_path_with_txt_ext.replace(\".txt\",\"\")\n",
    "      doc.metadata.update({\"source\":new_path_without_txt_ext})\n",
    "    chat_model,retriever=initialize(documents)\n",
    "    prompt=set_custom_prompt()\n",
    "    qa = RetrievalQA.from_chain_type(llm=chat_model,\n",
    "                                chain_type=\"stuff\",\n",
    "                                retriever=retriever,\n",
    "                                return_source_documents=True,\n",
    "                                chain_type_kwargs={\"prompt\": prompt})\n",
    "    response = qa.invoke(query)\n",
    "    return response['result']"
   ]
  },
  {
   "cell_type": "code",
   "execution_count": 43,
   "id": "87fd63d8-0702-4190-ae61-ac58d9e29e39",
   "metadata": {},
   "outputs": [],
   "source": [
    "def load_documents(folder_path):\n",
    "    global path\n",
    "    os.system(f\"git clone {folder_path}\")\n",
    "    path=folder_path.split(\"/\")[-1]\n",
    "    convert_to_text(f\"./{path}\",f\"./converted_{path}\")\n",
    "    return \"Documents Loaded Successfully\"\n",
    "    "
   ]
  },
  {
   "cell_type": "code",
   "execution_count": 44,
   "id": "0388decf-3cc1-45d5-8b43-1773968324a9",
   "metadata": {},
   "outputs": [],
   "source": [
    "app1=gr.Interface(fn=load_documents,inputs=gr.Textbox(label=\"Enter the link for Github repository for reference \"),outputs=\"text\")\n",
    "app2 = gr.Interface(fn=get_response, inputs= gr.Textbox(label=\"Enter your question \"), outputs=\"textbox\")"
   ]
  },
  {
   "cell_type": "code",
   "execution_count": 45,
   "id": "e193cfd2-3700-4047-80ff-6292a8e9af6d",
   "metadata": {},
   "outputs": [],
   "source": [
    "demo = gr.TabbedInterface([app1,app2], [\"Load Documents\",\"Ask Question\"])"
   ]
  },
  {
   "cell_type": "code",
   "execution_count": 46,
   "id": "2b4321b4-e1da-41f7-8cef-f970b41e06a0",
   "metadata": {},
   "outputs": [
    {
     "name": "stdout",
     "output_type": "stream",
     "text": [
      "Running on local URL:  http://127.0.0.1:7863\n",
      "\n",
      "To create a public link, set `share=True` in `launch()`.\n"
     ]
    },
    {
     "data": {
      "text/html": [
       "<div><iframe src=\"http://127.0.0.1:7863/\" width=\"100%\" height=\"500\" allow=\"autoplay; camera; microphone; clipboard-read; clipboard-write;\" frameborder=\"0\" allowfullscreen></iframe></div>"
      ],
      "text/plain": [
       "<IPython.core.display.HTML object>"
      ]
     },
     "metadata": {},
     "output_type": "display_data"
    },
    {
     "data": {
      "text/plain": []
     },
     "execution_count": 46,
     "metadata": {},
     "output_type": "execute_result"
    },
    {
     "name": "stderr",
     "output_type": "stream",
     "text": [
      "C:\\Users\\Jaganath\\anaconda3\\Lib\\site-packages\\gradio\\analytics.py:106: UserWarning: IMPORTANT: You are using gradio version 4.44.0, however version 5.0.1 is available, please upgrade. \n",
      "--------\n",
      "  warnings.warn(\n"
     ]
    }
   ],
   "source": [
    "demo.launch()"
   ]
  },
  {
   "cell_type": "code",
   "execution_count": null,
   "id": "15f3f375-7aa5-45ad-9901-17f23aabdf58",
   "metadata": {},
   "outputs": [],
   "source": []
  }
 ],
 "metadata": {
  "kernelspec": {
   "display_name": "Python 3 (ipykernel)",
   "language": "python",
   "name": "python3"
  },
  "language_info": {
   "codemirror_mode": {
    "name": "ipython",
    "version": 3
   },
   "file_extension": ".py",
   "mimetype": "text/x-python",
   "name": "python",
   "nbconvert_exporter": "python",
   "pygments_lexer": "ipython3",
   "version": "3.12.4"
  }
 },
 "nbformat": 4,
 "nbformat_minor": 5
}
